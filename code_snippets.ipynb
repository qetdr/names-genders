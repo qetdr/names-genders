{
 "cells": [
  {
   "cell_type": "markdown",
   "id": "fffbaf94",
   "metadata": {},
   "source": [
    "# Data Retrieval Scripts\n",
    "I combined data from several sources + fixed some rows manually. Here are links to the sources:\n",
    "\n",
    "- UCI Name-Gender Dataset: https://archive.ics.uci.edu/ml/datasets/Gender+by+Name\n",
    "    - Downloaded the dataset and matched the names I had in my own dataset. If match found, prob = 1.\n",
    "\n",
    "- Names lists from Github repos:\n",
    "    - Chinese-English Names-Genders Corpus: https://raw.githubusercontent.com/wainshine/Chinese-Names-Corpus/master/English_Names_Corpus/English_Cn_Name_Corpus_Gender（48W）.txt\n",
    "    - Indian names list: https://github.com/laxmimerit/indian-names-dataset\n",
    "    - Arabic names list: https://github.com/zakahmad/ArabicNameGenderFinder\n",
    "\n",
    "- Behind the Name Downloadable Dataset: https://www.behindthename.com/api/\n",
    "\n",
    "- Genderize.io: https://genderize.io/\n",
    "    - Querying names one at a time. There is a daily limit to appx 1000 queries per IP-address.\n",
    "    - maybe see this also: https://github.com/jholtmann/genderize_csv"
   ]
  },
  {
   "cell_type": "code",
   "execution_count": null,
   "id": "ab245104",
   "metadata": {},
   "outputs": [],
   "source": [
    "!pip install genderize\n",
    "!pip install unidecode"
   ]
  },
  {
   "cell_type": "code",
   "execution_count": 1,
   "id": "98c6225e",
   "metadata": {},
   "outputs": [],
   "source": [
    "import pandas as pd\n",
    "from tqdm import tqdm\n",
    "from unidecode import unidecode\n",
    "from genderize import Genderize # Gender API"
   ]
  },
  {
   "cell_type": "code",
   "execution_count": 8,
   "id": "224ed81f",
   "metadata": {},
   "outputs": [
    {
     "name": "stdout",
     "output_type": "stream",
     "text": [
      "Number of names uncategorized: 3967\n"
     ]
    },
    {
     "data": {
      "text/html": [
       "<div>\n",
       "<style scoped>\n",
       "    .dataframe tbody tr th:only-of-type {\n",
       "        vertical-align: middle;\n",
       "    }\n",
       "\n",
       "    .dataframe tbody tr th {\n",
       "        vertical-align: top;\n",
       "    }\n",
       "\n",
       "    .dataframe thead th {\n",
       "        text-align: right;\n",
       "    }\n",
       "</style>\n",
       "<table border=\"1\" class=\"dataframe\">\n",
       "  <thead>\n",
       "    <tr style=\"text-align: right;\">\n",
       "      <th></th>\n",
       "      <th>first_name</th>\n",
       "      <th>alph_value</th>\n",
       "      <th>gender</th>\n",
       "      <th>prob</th>\n",
       "    </tr>\n",
       "  </thead>\n",
       "  <tbody>\n",
       "    <tr>\n",
       "      <th>0</th>\n",
       "      <td>Timyoas</td>\n",
       "      <td>T</td>\n",
       "      <td>NaN</td>\n",
       "      <td>NaN</td>\n",
       "    </tr>\n",
       "    <tr>\n",
       "      <th>1</th>\n",
       "      <td>TingAn</td>\n",
       "      <td>T</td>\n",
       "      <td>NaN</td>\n",
       "      <td>NaN</td>\n",
       "    </tr>\n",
       "    <tr>\n",
       "      <th>2</th>\n",
       "      <td>TingChun</td>\n",
       "      <td>T</td>\n",
       "      <td>NaN</td>\n",
       "      <td>NaN</td>\n",
       "    </tr>\n",
       "    <tr>\n",
       "      <th>3</th>\n",
       "      <td>TingHan</td>\n",
       "      <td>T</td>\n",
       "      <td>NaN</td>\n",
       "      <td>NaN</td>\n",
       "    </tr>\n",
       "    <tr>\n",
       "      <th>4</th>\n",
       "      <td>TingKuo</td>\n",
       "      <td>T</td>\n",
       "      <td>NaN</td>\n",
       "      <td>NaN</td>\n",
       "    </tr>\n",
       "    <tr>\n",
       "      <th>5</th>\n",
       "      <td>TingWai</td>\n",
       "      <td>T</td>\n",
       "      <td>NaN</td>\n",
       "      <td>NaN</td>\n",
       "    </tr>\n",
       "    <tr>\n",
       "      <th>6</th>\n",
       "      <td>TingWu</td>\n",
       "      <td>T</td>\n",
       "      <td>NaN</td>\n",
       "      <td>NaN</td>\n",
       "    </tr>\n",
       "    <tr>\n",
       "      <th>7</th>\n",
       "      <td>TingYu</td>\n",
       "      <td>T</td>\n",
       "      <td>NaN</td>\n",
       "      <td>NaN</td>\n",
       "    </tr>\n",
       "    <tr>\n",
       "      <th>8</th>\n",
       "      <td>Tingdi</td>\n",
       "      <td>T</td>\n",
       "      <td>NaN</td>\n",
       "      <td>NaN</td>\n",
       "    </tr>\n",
       "    <tr>\n",
       "      <th>9</th>\n",
       "      <td>Tingfung</td>\n",
       "      <td>T</td>\n",
       "      <td>NaN</td>\n",
       "      <td>NaN</td>\n",
       "    </tr>\n",
       "  </tbody>\n",
       "</table>\n",
       "</div>"
      ],
      "text/plain": [
       "  first_name alph_value gender  prob\n",
       "0    Timyoas          T    NaN   NaN\n",
       "1     TingAn          T    NaN   NaN\n",
       "2   TingChun          T    NaN   NaN\n",
       "3    TingHan          T    NaN   NaN\n",
       "4    TingKuo          T    NaN   NaN\n",
       "5    TingWai          T    NaN   NaN\n",
       "6     TingWu          T    NaN   NaN\n",
       "7     TingYu          T    NaN   NaN\n",
       "8     Tingdi          T    NaN   NaN\n",
       "9   Tingfung          T    NaN   NaN"
      ]
     },
     "execution_count": 8,
     "metadata": {},
     "output_type": "execute_result"
    }
   ],
   "source": [
    "# Import the df\n",
    "names_genders = pd.read_csv('data/names_genders.csv', sep = ',')\n",
    "\n",
    "# Sort to have the NAs for updating ready\n",
    "## This sort is performed every time when the data is read in\n",
    "names_genders = names_genders.sort_values(['gender', 'prob', 'first_name'], \n",
    "                          ascending = [0,0,1], \n",
    "                          na_position= 'first').reset_index(drop = True)\n",
    "print(f\"Number of names uncategorized: {names_genders['gender'].isnull().sum()}\")\n",
    "names_genders.head(10)"
   ]
  },
  {
   "cell_type": "markdown",
   "id": "74b56b67",
   "metadata": {},
   "source": [
    "# Match the data with external data"
   ]
  },
  {
   "cell_type": "code",
   "execution_count": null,
   "id": "e98760f5",
   "metadata": {},
   "outputs": [],
   "source": [
    "def search_gender_from_data(names_genders, ext_data, ext_firstname, ext_gender):\n",
    "    \"\"\"Match the names with an external dataset and retrieve gender\n",
    "    Args:\n",
    "        ext_data (pd.DataFrame): external dataset to be used for matching\n",
    "        ext_firstname (str): name of the 'first_name' column in the external dataset\n",
    "        ext_gender (str): name of the 'gender' column in the external dataset\n",
    "    \"\"\"\n",
    "    # Lowercase the names in the external dataset\n",
    "    ext_data[ext_firstname] = ext_data[ext_firstname].str.lower()\n",
    "    \n",
    "    # Search for names from the UCI name data set\n",
    "    for i in tqdm(range(len(names_genders))):\n",
    "        \n",
    "        # If gender is already marked, ignore the row\n",
    "        if names_genders.loc[i, 'gender'] == 'M' or names_genders.loc[i, 'gender'] == 'F':\n",
    "                pass\n",
    "        else:\n",
    "            # Extract the name and lower it\n",
    "            firstname = names_genders.loc[i, 'first_name'].lower()\n",
    "            \n",
    "            # Search in a subset of the externalm dataset\n",
    "            idx = ext_data[ext_data[ext_firstname] == firstname].index\n",
    "\n",
    "            # If no index found, no name -> do nothing\n",
    "            if len(idx) == 0:\n",
    "                pass\n",
    "            \n",
    "            else:\n",
    "                idx = idx.values[0]\n",
    "                print(firstname, ext_data.loc[idx, ext_gender][0], 1)\n",
    "                names_genders.loc[i, 'gender'] = ext_data.loc[idx, ext_gender][0] # get the gender\n",
    "                names_genders.loc[i, 'prob'] = 1 # set prob to 1"
   ]
  },
  {
   "cell_type": "markdown",
   "id": "8f6a511e",
   "metadata": {},
   "source": [
    "### Use the Chinese data to fetch names"
   ]
  },
  {
   "cell_type": "code",
   "execution_count": null,
   "id": "01e342c3",
   "metadata": {},
   "outputs": [],
   "source": [
    "# Import the data (see below for data retrieval)\n",
    "chinese_names = pd.read_csv('data/chinese_names.csv')\n",
    "\n",
    "# Run the function\n",
    "search_gender_from_data(names_genders, chinese_names, 'name_eng', 'gender')\n",
    "\n",
    "# Sort the data so that no-retrieved data is first\n",
    "names_genders = names_genders.sort_values(['gender', 'prob', 'first_name'], \n",
    "                                               ascending = [0,0,1], \n",
    "                                               na_position= 'first').reset_index(drop = True)\n",
    "# Update the names-genders csv\n",
    "names_genders.to_csv('data/names_genders.csv', index = False)"
   ]
  },
  {
   "cell_type": "markdown",
   "id": "14ea9591",
   "metadata": {},
   "source": [
    "### Use the UCI data"
   ]
  },
  {
   "cell_type": "code",
   "execution_count": null,
   "id": "f89813f4",
   "metadata": {
    "scrolled": false
   },
   "outputs": [],
   "source": [
    "# Uncomment the below code\n",
    "# import ssl\n",
    "# ssl._create_default_https_context = ssl._create_unverified_context\n",
    "\n",
    "# Import the data (see below for data retrieval)\n",
    "uci_names = pd.read_csv('https://archive.ics.uci.edu/ml/machine-learning-databases/00591/name_gender_dataset.csv')\n",
    "\n",
    "# Save a csv version to the repo\n",
    "uci_names.o_csv('data/uci_names.csv', index = False)\n",
    "\n",
    "# Run the function\n",
    "search_gender_from_data(names_genders, uci_names, 'Name', 'Gender')\n",
    "\n",
    "# Sort the data so that no-retrieved data is first\n",
    "names_genders = names_genders.sort_values(['gender', 'prob', 'first_name'], \n",
    "                                               ascending = [0,0,1], \n",
    "                                               na_position= 'first').reset_index(drop = True)\n",
    "# Update the names-genders csv\n",
    "names_genders.to_csv('data/names_genders.csv', index = False)"
   ]
  },
  {
   "cell_type": "markdown",
   "id": "0e2af44a",
   "metadata": {},
   "source": [
    "### Use the Behind the Name data"
   ]
  },
  {
   "cell_type": "code",
   "execution_count": null,
   "id": "63c113b9",
   "metadata": {},
   "outputs": [],
   "source": [
    "# Data Import\n",
    "btn_names = pd.read_table('data/btn_givennames.txt')\n",
    "\n",
    "# Do the data cleaning\n",
    "btn_names['name'] = btn_names['name'].apply(unidecode)\n",
    "btn_names = btn_names[btn_names['name'].str.contains('[A-Za-z]', na=False)].reset_index(drop = True)\n",
    "btn_names = btn_names[~(btn_names['name'].str.len() < 4)].reset_index(drop = True)\n",
    "btn_names['name'] = btn_names['name'].str.replace(' ', '')\n",
    "btn_names['gender'] = btn_names['gender'].str.upper()\n",
    "\n",
    "# Run the function\n",
    "search_gender_from_data(names_genders, btn_names, 'name', 'gender')\n",
    "\n",
    "# Sort the data so that no-retrieved data is first\n",
    "names_genders = names_genders.sort_values(['gender', 'prob', 'first_name'], \n",
    "                                               ascending = [0,0,1], \n",
    "                                               na_position= 'first').reset_index(drop = True)\n",
    "# Update the names-genders csv\n",
    "names_genders.to_csv('data/names_genders.csv', index = False)"
   ]
  },
  {
   "cell_type": "markdown",
   "id": "3dea6b95",
   "metadata": {},
   "source": [
    "### Use the Indian Names Data"
   ]
  },
  {
   "cell_type": "code",
   "execution_count": null,
   "id": "cdbb9138",
   "metadata": {},
   "outputs": [],
   "source": [
    "# Data Import\n",
    "ind_names = pd.read_csv('data/indian_names.csv')\n",
    "\n",
    "# Run the function\n",
    "search_gender_from_data(names_genders, ind_names, 'name', 'gender')\n",
    "\n",
    "# Sort the data so that no-retrieved data is first\n",
    "names_genders = names_genders.sort_values(['gender', 'prob', 'first_name'], \n",
    "                                               ascending = [0,0,1], \n",
    "                                               na_position= 'first').reset_index(drop = True)\n",
    "# Update the names-genders csv\n",
    "names_genders.to_csv('data/names_genders.csv', index = False)"
   ]
  },
  {
   "cell_type": "markdown",
   "id": "8c862f53",
   "metadata": {},
   "source": [
    "### Use the Arabic Names Data"
   ]
  },
  {
   "cell_type": "code",
   "execution_count": null,
   "id": "9be47cc7",
   "metadata": {},
   "outputs": [],
   "source": [
    "# Data Import\n",
    "ar_names = pd.read_csv('data/arabic_names.csv')\n",
    "\n",
    "# Run the function\n",
    "search_gender_from_data(names_genders, ar_names, 'Name', 'Gender')\n",
    "\n",
    "# Sort the data so that no-retrieved data is first\n",
    "names_genders = names_genders.sort_values(['gender', 'prob', 'first_name'], \n",
    "                                               ascending = [0,0,1], \n",
    "                                               na_position= 'first').reset_index(drop = True)\n",
    "# Update the names-genders csv\n",
    "names_genders.to_csv('data/names_genders.csv', index = False)"
   ]
  },
  {
   "cell_type": "markdown",
   "id": "6ce0fb14",
   "metadata": {},
   "source": [
    "# Pull the data from Genderize.io API"
   ]
  },
  {
   "cell_type": "code",
   "execution_count": 3,
   "id": "313eec04",
   "metadata": {},
   "outputs": [],
   "source": [
    "# A helper function to update data from Genderize.io API\n",
    "\n",
    "def update_names_table(names_genders, limit = 1000):\n",
    "    \n",
    "    try: \n",
    "        # For-loop querying the genderize.io API\n",
    "        for i in tqdm(range(limit)):\n",
    "\n",
    "            # Extract the name\n",
    "            first_name = names_genders.loc[i, 'first_name'] # first name\n",
    "\n",
    "            # Check if the name has already been checked\n",
    "            ## Query only if the name hasn't been checked already\n",
    "            if names_genders.loc[i, 'prob'] >= 0 and names_genders.loc[i, 'prob'] <= 1:\n",
    "                pass\n",
    "\n",
    "            else:\n",
    "                # Try querying the Genderize.io API\n",
    "                gender_info = Genderize().get([first_name])\n",
    "                names_genders.loc[i, 'gender'] = gender_info[0]['gender']\n",
    "                names_genders.loc[i,'prob'] = gender_info[0]['probability']\n",
    "\n",
    "    except:\n",
    "        print(f'Iteration nr {i}')\n",
    "        print('Limit likely exceeded.')\n",
    "\n",
    "     # Sort the data so that no-retrieved data is first\n",
    "    names_genders = names_genders.sort_values(['gender', 'prob', 'first_name'], \n",
    "                                               ascending = [0,0,1], \n",
    "                                               na_position= 'first').reset_index(drop = True)\n",
    "    # Write to csv once data is pulled\n",
    "    names_genders.to_csv('data/names_genders.csv', index = False)"
   ]
  },
  {
   "cell_type": "code",
   "execution_count": 11,
   "id": "664137fc",
   "metadata": {},
   "outputs": [
    {
     "name": "stderr",
     "output_type": "stream",
     "text": [
      "100%|███████████████████████████████████████| 1000/1000 [19:21<00:00,  1.16s/it]\n"
     ]
    }
   ],
   "source": [
    "# Run the function that querys names from Genderize.io\n",
    "update_names_table(names_genders, 1000)"
   ]
  },
  {
   "cell_type": "markdown",
   "id": "c3d278a1",
   "metadata": {},
   "source": [
    "## Get the data set from Github Repos: the sloppy way"
   ]
  },
  {
   "cell_type": "markdown",
   "id": "5bac492b",
   "metadata": {},
   "source": [
    "### Chinese Names Data"
   ]
  },
  {
   "cell_type": "code",
   "execution_count": null,
   "id": "9a97c766",
   "metadata": {},
   "outputs": [],
   "source": [
    "# Clone the Github repo\n",
    "!git clone https://github.com/wainshine/Chinese-Names-Corpus\n",
    "\n",
    "# Import the data\n",
    "chinese_names = pd.read_table('./Chinese-Names-Corpus/English_Names_Corpus/English_Cn_Name_Corpus_Gender（48W）.txt',\n",
    "                             sep = '|',\n",
    "                            names=['name_chi', 'name_eng', 'gender']\n",
    "                         )\n",
    "\n",
    "# Remove rows that do not include alphabetical letters\n",
    "chinese_names = chinese_names[chinese_names['name_eng'].str.contains('[A-Za-z]', na=False)].reset_index(drop = True)\n",
    "chinese_names = chinese_names[~(chinese_names['name_eng'].str.len() < 4)].reset_index(drop = True)\n",
    "chinese_names['name_eng'] = chinese_names['name_eng'].str.replace(' ', '')\n",
    "\n",
    "# Drop duplicates\n",
    "chinese_names = chinese_names.drop_duplicates('name_eng').reset_index(drop = True)\n",
    "\n",
    "# # Select only the English version and gender\n",
    "chinese_names = chinese_names[['name_eng', 'gender']]\n",
    "\n",
    "# Save to csv\n",
    "chinese_names.to_csv('data/chinese_names.csv', index = False)\n",
    "\n",
    "# Remove the directory, as it is not needed anymore\n",
    "!rm -rf Chinese-Names-Corpus"
   ]
  },
  {
   "cell_type": "markdown",
   "id": "a6d37888",
   "metadata": {},
   "source": [
    "### Indian Names data"
   ]
  },
  {
   "cell_type": "code",
   "execution_count": null,
   "id": "406c7991",
   "metadata": {
    "scrolled": false
   },
   "outputs": [],
   "source": [
    "# Clone the Github repo\n",
    "!git clone https://github.com/laxmimerit/indian-names-dataset\n",
    "    \n",
    "# Data import\n",
    "ind_males = pd.read_csv('indian-names-dataset/Indian-Male-Names.csv')\n",
    "ind_females = pd.read_csv('indian-names-dataset/Indian-Female-Names.csv')\n",
    "ind_names = pd.concat([ind_males,ind_females], ignore_index=True)\n",
    "\n",
    "# Remove rows that do not include alphabetical letters\n",
    "ind_names = ind_names[ind_names['name'].str.contains('[A-Za-z]', na=False)].reset_index(drop = True)\n",
    "ind_names = ind_names[~(ind_names['name'].str.len() < 4)].reset_index(drop = True)\n",
    "ind_names['name'] = ind_names['name'].str.replace(' ', '')\n",
    "\n",
    "# Drop duplicates\n",
    "ind_names = ind_names.drop_duplicates('name').reset_index(drop = True)\n",
    "\n",
    "# Uppercase the gender values\n",
    "ind_names['gender']= ind_names['gender'].str.upper()\n",
    "\n",
    "# Pick only name and gender\n",
    "ind_names = ind_names[['name', 'gender']]\n",
    "\n",
    "# Save to csv\n",
    "ind_names.to_csv('data/indian_names.csv', index = False)\n",
    "\n",
    "# Remove the directory, as it is not needed anymore\n",
    "!rm -rf indian-names-dataset"
   ]
  },
  {
   "cell_type": "markdown",
   "id": "f95d03f1",
   "metadata": {},
   "source": [
    "### Arabic Names Data"
   ]
  },
  {
   "cell_type": "code",
   "execution_count": null,
   "id": "bce0f9b4",
   "metadata": {},
   "outputs": [],
   "source": [
    "!git clone https://github.com/zakahmad/ArabicNameGenderFinder\n",
    "    \n",
    "# Data import\n",
    "ar_males = pd.read_csv('ArabicNameGenderFinder/males_en.csv')\n",
    "ar_females = pd.read_csv('ArabicNameGenderFinder/females_en.csv')\n",
    "ar_names = pd.concat([ar_males, ar_females], ignore_index=True)\n",
    "\n",
    "# Remove rows that do not include alphabetical letters\n",
    "ar_names = ar_names[ar_names['Name'].str.contains('[A-Za-z]', na=False)].reset_index(drop = True)\n",
    "ar_names = ar_names[~(ar_names['Name'].str.len() < 4)].reset_index(drop = True)\n",
    "ar_names['Name'] = ar_names['Name'].str.replace(' ', '')\n",
    "\n",
    "# Drop duplicates\n",
    "ar_names = ar_names.drop_duplicates('Name').reset_index(drop = True)\n",
    "\n",
    "# Uppercase the gender values\n",
    "ar_names['Gender']= ar_names['Gender'].str[:1]\n",
    "\n",
    "# Save to csv\n",
    "ar_names.to_csv('data/arabic_names.csv', index = False)\n",
    "\n",
    "# Remove the directory, as it is not needed anymore\n",
    "!rm -rf ArabicNameGenderFinder"
   ]
  },
  {
   "cell_type": "code",
   "execution_count": null,
   "id": "a19157ec",
   "metadata": {},
   "outputs": [],
   "source": []
  }
 ],
 "metadata": {
  "kernelspec": {
   "display_name": "Python 3 (ipykernel)",
   "language": "python",
   "name": "python3"
  },
  "language_info": {
   "codemirror_mode": {
    "name": "ipython",
    "version": 3
   },
   "file_extension": ".py",
   "mimetype": "text/x-python",
   "name": "python",
   "nbconvert_exporter": "python",
   "pygments_lexer": "ipython3",
   "version": "3.10.4"
  }
 },
 "nbformat": 4,
 "nbformat_minor": 5
}
