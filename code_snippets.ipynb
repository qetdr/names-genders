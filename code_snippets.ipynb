{
 "cells": [
  {
   "cell_type": "markdown",
   "id": "fffbaf94",
   "metadata": {},
   "source": [
    "# Data Retrieval Scripts\n",
    "I combined data from several sources + fixed some rows manually. Here are links to the sources:\n",
    "\n",
    "- UCI Name-Gender Dataset: https://archive.ics.uci.edu/ml/datasets/Gender+by+Name\n",
    "    - Downloaded the dataset and matched the names I had in my own dataset. If match found, prob = 1.\n",
    "- Chinese-English Names-Genders Corpus: https://raw.githubusercontent.com/wainshine/Chinese-Names-Corpus/master/English_Names_Corpus/English_Cn_Name_Corpus_Gender（48W）.txt\n",
    "\n",
    "- Genderize.io: https://genderize.io/\n",
    "    - Querying names one at a time. There is a daily limit to appx 1500 queries per IP-address."
   ]
  },
  {
   "cell_type": "code",
   "execution_count": 66,
   "id": "ab245104",
   "metadata": {},
   "outputs": [
    {
     "name": "stdout",
     "output_type": "stream",
     "text": [
      "Collecting unidecode\n",
      "  Downloading Unidecode-1.3.6-py3-none-any.whl (235 kB)\n",
      "\u001b[2K     \u001b[90m━━━━━━━━━━━━━━━━━━━━━━━━━━━━━━━━━━━━━━━\u001b[0m \u001b[32m235.9/235.9 kB\u001b[0m \u001b[31m3.8 MB/s\u001b[0m eta \u001b[36m0:00:00\u001b[0ma \u001b[36m0:00:01\u001b[0m\n",
      "\u001b[?25hInstalling collected packages: unidecode\n",
      "Successfully installed unidecode-1.3.6\n"
     ]
    }
   ],
   "source": [
    "!pip install genderize\n",
    "!pip install unidecode"
   ]
  },
  {
   "cell_type": "code",
   "execution_count": 67,
   "id": "98c6225e",
   "metadata": {},
   "outputs": [],
   "source": [
    "import pandas as pd\n",
    "from tqdm import tqdm\n",
    "from unidecode import unidecode\n",
    "from genderize import Genderize # Gender API"
   ]
  },
  {
   "cell_type": "code",
   "execution_count": 171,
   "id": "224ed81f",
   "metadata": {},
   "outputs": [
    {
     "name": "stdout",
     "output_type": "stream",
     "text": [
      "Number of names uncategorized: 9189\n"
     ]
    },
    {
     "data": {
      "text/html": [
       "<div>\n",
       "<style scoped>\n",
       "    .dataframe tbody tr th:only-of-type {\n",
       "        vertical-align: middle;\n",
       "    }\n",
       "\n",
       "    .dataframe tbody tr th {\n",
       "        vertical-align: top;\n",
       "    }\n",
       "\n",
       "    .dataframe thead th {\n",
       "        text-align: right;\n",
       "    }\n",
       "</style>\n",
       "<table border=\"1\" class=\"dataframe\">\n",
       "  <thead>\n",
       "    <tr style=\"text-align: right;\">\n",
       "      <th></th>\n",
       "      <th>first_name</th>\n",
       "      <th>alph_value</th>\n",
       "      <th>gender</th>\n",
       "      <th>prob</th>\n",
       "    </tr>\n",
       "  </thead>\n",
       "  <tbody>\n",
       "    <tr>\n",
       "      <th>0</th>\n",
       "      <td>JanikVasily</td>\n",
       "      <td>J</td>\n",
       "      <td>NaN</td>\n",
       "      <td>NaN</td>\n",
       "    </tr>\n",
       "    <tr>\n",
       "      <th>1</th>\n",
       "      <td>JannFrederik</td>\n",
       "      <td>J</td>\n",
       "      <td>NaN</td>\n",
       "      <td>NaN</td>\n",
       "    </tr>\n",
       "    <tr>\n",
       "      <th>2</th>\n",
       "      <td>Jannatun</td>\n",
       "      <td>J</td>\n",
       "      <td>NaN</td>\n",
       "      <td>NaN</td>\n",
       "    </tr>\n",
       "    <tr>\n",
       "      <th>3</th>\n",
       "      <td>Jannes</td>\n",
       "      <td>J</td>\n",
       "      <td>NaN</td>\n",
       "      <td>NaN</td>\n",
       "    </tr>\n",
       "    <tr>\n",
       "      <th>4</th>\n",
       "      <td>Janniele</td>\n",
       "      <td>J</td>\n",
       "      <td>NaN</td>\n",
       "      <td>NaN</td>\n",
       "    </tr>\n",
       "  </tbody>\n",
       "</table>\n",
       "</div>"
      ],
      "text/plain": [
       "     first_name alph_value gender  prob\n",
       "0   JanikVasily          J    NaN   NaN\n",
       "1  JannFrederik          J    NaN   NaN\n",
       "2      Jannatun          J    NaN   NaN\n",
       "3        Jannes          J    NaN   NaN\n",
       "4      Janniele          J    NaN   NaN"
      ]
     },
     "execution_count": 171,
     "metadata": {},
     "output_type": "execute_result"
    }
   ],
   "source": [
    "# Import the df\n",
    "names_genders = pd.read_csv('data/names_genders.csv', sep = ',')\n",
    "\n",
    "# Sort to have the NAs for updating ready\n",
    "## This sort is performed every time when the data is read in\n",
    "names_genders = names_genders.sort_values(['gender', 'prob', 'first_name'], \n",
    "                          ascending = [0,0,1], \n",
    "                          na_position= 'first').reset_index(drop = True)\n",
    "print(f\"Number of names uncategorized: {names_genders['gender'].isnull().sum()}\")\n",
    "names_genders.head()"
   ]
  },
  {
   "cell_type": "markdown",
   "id": "74b56b67",
   "metadata": {},
   "source": [
    "# Match the data with external data"
   ]
  },
  {
   "cell_type": "code",
   "execution_count": null,
   "id": "e5426690",
   "metadata": {},
   "outputs": [],
   "source": []
  },
  {
   "cell_type": "code",
   "execution_count": 172,
   "id": "e98760f5",
   "metadata": {},
   "outputs": [],
   "source": [
    "def search_gender_from_data(names_genders, ext_data, ext_firstname, ext_gender):\n",
    "    \"\"\"Match the names with an external dataset and retrieve gender\n",
    "    Args:\n",
    "        ext_data (pd.DataFrame): external dataset to be used for matching\n",
    "        ext_firstname (str): name of the 'first_name' column in the external dataset\n",
    "        ext_gender (str): name of the 'gender' column in the external dataset\n",
    "    \"\"\"\n",
    "    \n",
    "    # Search for names from the UCI name data set\n",
    "    for i in tqdm(range(len(names_genders))):\n",
    "        \n",
    "        # If gender is already marked, ignore the row\n",
    "        if names_genders.loc[i, 'gender'] == 'M' or names_genders.loc[i, 'gender'] == 'F':\n",
    "                pass\n",
    "        else:\n",
    "            # Extract the name and letter\n",
    "            firstname = names_genders.loc[i, 'first_name']\n",
    "\n",
    "            # Search in a subset of the externalm dataset\n",
    "            idx = ext_data[ext_data[ext_firstname] == firstname].index\n",
    "\n",
    "            # If no index found, no name -> do nothing\n",
    "            if len(idx) == 0:\n",
    "                pass\n",
    "            \n",
    "            else:\n",
    "                idx = idx.values[0]\n",
    "              #  print(firstname, ext_data.loc[idx, ext_gender], 1)\n",
    "                names_genders.loc[i, 'gender'] = ext_data.loc[idx, ext_gender] # get the gender\n",
    "                names_genders.loc[i, 'prob'] = 1 # set prob to 1"
   ]
  },
  {
   "cell_type": "markdown",
   "id": "8f6a511e",
   "metadata": {},
   "source": [
    "### Use the Chinese data to fetch names"
   ]
  },
  {
   "cell_type": "code",
   "execution_count": null,
   "id": "01e342c3",
   "metadata": {},
   "outputs": [],
   "source": [
    "# Import the data (see below for data retrieval)\n",
    "chinese_names = pd.read_csv('chinese_names.csv')\n",
    "\n",
    "# Run the function\n",
    "search_gender_from_data(names_genders, chinese_names, 'name_eng', 'gender')\n",
    "\n",
    "# Sort the data so that no-retrieved data is first\n",
    "names_genders = names_genders.sort_values(['gender', 'prob', 'first_name'], \n",
    "                                               ascending = [0,0,1], \n",
    "                                               na_position= 'first').reset_index(drop = True)\n",
    "# Update the names-genders csv\n",
    "names_genders.to_csv('data/names_genders.csv', index = False)\n",
    "\n",
    "# Remove the Chinese names tables\n",
    "! rm chinese_names.csv"
   ]
  },
  {
   "cell_type": "markdown",
   "id": "14ea9591",
   "metadata": {},
   "source": [
    "### Use the UCI data"
   ]
  },
  {
   "cell_type": "code",
   "execution_count": 169,
   "id": "f89813f4",
   "metadata": {},
   "outputs": [
    {
     "name": "stderr",
     "output_type": "stream",
     "text": [
      "  0%|                                       | 45/21336 [00:00<01:36, 221.39it/s]"
     ]
    },
    {
     "name": "stdout",
     "output_type": "stream",
     "text": [
      "Jaromir M 1\n",
      "Jaroslaw M 1\n"
     ]
    },
    {
     "name": "stderr",
     "output_type": "stream",
     "text": [
      "  3%|█▏                                    | 678/21336 [00:03<01:33, 221.64it/s]"
     ]
    },
    {
     "name": "stdout",
     "output_type": "stream",
     "text": [
      "Jorgen M 1\n",
      "Jozsef M 1\n"
     ]
    },
    {
     "name": "stderr",
     "output_type": "stream",
     "text": [
      "  4%|█▌                                    | 883/21336 [00:04<01:33, 219.55it/s]"
     ]
    },
    {
     "name": "stdout",
     "output_type": "stream",
     "text": [
      "Jurrien M 1\n"
     ]
    },
    {
     "name": "stderr",
     "output_type": "stream",
     "text": [
      "  5%|█▊                                   | 1019/21336 [00:04<01:31, 221.79it/s]"
     ]
    },
    {
     "name": "stdout",
     "output_type": "stream",
     "text": [
      "Karoly M 1\n",
      "Katarina F 1\n"
     ]
    },
    {
     "name": "stderr",
     "output_type": "stream",
     "text": [
      "  6%|██▏                                  | 1295/21336 [00:05<01:30, 222.26it/s]"
     ]
    },
    {
     "name": "stdout",
     "output_type": "stream",
     "text": [
      "Kubra F 1\n"
     ]
    },
    {
     "name": "stderr",
     "output_type": "stream",
     "text": [
      "  7%|██▌                                  | 1456/21336 [00:06<01:29, 221.21it/s]"
     ]
    },
    {
     "name": "stdout",
     "output_type": "stream",
     "text": [
      "Laurene F 1\n"
     ]
    },
    {
     "name": "stderr",
     "output_type": "stream",
     "text": [
      "  7%|██▋                                  | 1569/21336 [00:07<01:30, 218.48it/s]"
     ]
    },
    {
     "name": "stdout",
     "output_type": "stream",
     "text": [
      "Lidia F 1\n"
     ]
    },
    {
     "name": "stderr",
     "output_type": "stream",
     "text": [
      "  8%|███                                  | 1770/21336 [00:08<01:29, 217.61it/s]"
     ]
    },
    {
     "name": "stdout",
     "output_type": "stream",
     "text": [
      "Lubomira F 1\n"
     ]
    },
    {
     "name": "stderr",
     "output_type": "stream",
     "text": [
      "  9%|███▎                                 | 1880/21336 [00:08<01:28, 218.73it/s]"
     ]
    },
    {
     "name": "stdout",
     "output_type": "stream",
     "text": [
      "Mairead F 1\n"
     ]
    },
    {
     "name": "stderr",
     "output_type": "stream",
     "text": [
      " 10%|███▌                                 | 2041/21336 [00:09<01:27, 219.50it/s]"
     ]
    },
    {
     "name": "stdout",
     "output_type": "stream",
     "text": [
      "Matej M 1\n",
      "Matias M 1\n",
      "Matyas M 1\n"
     ]
    },
    {
     "name": "stderr",
     "output_type": "stream",
     "text": [
      " 10%|███▊                                 | 2201/21336 [00:10<01:27, 219.93it/s]"
     ]
    },
    {
     "name": "stdout",
     "output_type": "stream",
     "text": [
      "Mickael M 1\n",
      "Mieczyslaw M 1\n",
      "Mikolaj M 1\n"
     ]
    },
    {
     "name": "stderr",
     "output_type": "stream",
     "text": [
      " 11%|████                                 | 2362/21336 [00:10<01:25, 222.32it/s]"
     ]
    },
    {
     "name": "stdout",
     "output_type": "stream",
     "text": [
      "Miroslaw M 1\n"
     ]
    },
    {
     "name": "stderr",
     "output_type": "stream",
     "text": [
      " 12%|████▎                                | 2454/21336 [00:11<01:25, 221.84it/s]"
     ]
    },
    {
     "name": "stdout",
     "output_type": "stream",
     "text": [
      "Monika F 1\n"
     ]
    },
    {
     "name": "stderr",
     "output_type": "stream",
     "text": [
      " 13%|████▋                                | 2704/21336 [00:12<01:25, 218.25it/s]"
     ]
    },
    {
     "name": "stdout",
     "output_type": "stream",
     "text": [
      "Nathanaelle F 1\n",
      "Nazim M 1\n",
      "Nebojsa M 1\n"
     ]
    },
    {
     "name": "stderr",
     "output_type": "stream",
     "text": [
      " 13%|████▉                                | 2838/21336 [00:12<01:24, 219.69it/s]"
     ]
    },
    {
     "name": "stdout",
     "output_type": "stream",
     "text": [
      "Noelie F 1\n",
      "Noemie F 1\n"
     ]
    },
    {
     "name": "stderr",
     "output_type": "stream",
     "text": [
      " 14%|█████                                | 2907/21336 [00:13<01:23, 221.56it/s]"
     ]
    },
    {
     "name": "stdout",
     "output_type": "stream",
     "text": [
      "Nuria F 1\n"
     ]
    },
    {
     "name": "stderr",
     "output_type": "stream",
     "text": [
      " 14%|█████▏                               | 2976/21336 [00:13<01:23, 220.60it/s]"
     ]
    },
    {
     "name": "stdout",
     "output_type": "stream",
     "text": [
      "Otavio M 1\n",
      "Paivi F 1\n"
     ]
    },
    {
     "name": "stderr",
     "output_type": "stream",
     "text": [
      " 15%|█████▌                               | 3228/21336 [00:14<01:21, 221.52it/s]"
     ]
    },
    {
     "name": "stdout",
     "output_type": "stream",
     "text": [
      "Plinio M 1\n"
     ]
    },
    {
     "name": "stderr",
     "output_type": "stream",
     "text": [
      " 17%|██████▏                              | 3572/21336 [00:16<01:20, 220.02it/s]"
     ]
    },
    {
     "name": "stdout",
     "output_type": "stream",
     "text": [
      "Rafal M 1\n",
      "Raiza F 1\n"
     ]
    },
    {
     "name": "stderr",
     "output_type": "stream",
     "text": [
      " 17%|██████▎                              | 3641/21336 [00:16<01:19, 221.99it/s]"
     ]
    },
    {
     "name": "stdout",
     "output_type": "stream",
     "text": [
      "Ramunas M 1\n",
      "Raphaelle F 1\n"
     ]
    },
    {
     "name": "stderr",
     "output_type": "stream",
     "text": [
      " 17%|██████▍                              | 3710/21336 [00:16<01:19, 220.77it/s]"
     ]
    },
    {
     "name": "stdout",
     "output_type": "stream",
     "text": [
      "Rejean M 1\n"
     ]
    },
    {
     "name": "stderr",
     "output_type": "stream",
     "text": [
      " 18%|██████▊                              | 3894/21336 [00:17<01:19, 220.22it/s]"
     ]
    },
    {
     "name": "stdout",
     "output_type": "stream",
     "text": [
      "Ruairi M 1\n",
      "Ruben M 1\n"
     ]
    },
    {
     "name": "stderr",
     "output_type": "stream",
     "text": [
      " 20%|███████▍                             | 4262/21336 [00:19<01:17, 219.45it/s]"
     ]
    },
    {
     "name": "stdout",
     "output_type": "stream",
     "text": [
      "Savas M 1\n"
     ]
    },
    {
     "name": "stderr",
     "output_type": "stream",
     "text": [
      " 20%|███████▌                             | 4328/21336 [00:19<01:17, 218.13it/s]"
     ]
    },
    {
     "name": "stdout",
     "output_type": "stream",
     "text": [
      "Senen M 1\n"
     ]
    },
    {
     "name": "stderr",
     "output_type": "stream",
     "text": [
      " 23%|████████▋                            | 4993/21336 [00:22<01:13, 221.91it/s]"
     ]
    },
    {
     "name": "stdout",
     "output_type": "stream",
     "text": [
      "Simao M 1\n"
     ]
    },
    {
     "name": "stderr",
     "output_type": "stream",
     "text": [
      " 24%|████████▊                            | 5108/21336 [00:23<01:13, 221.21it/s]"
     ]
    },
    {
     "name": "stdout",
     "output_type": "stream",
     "text": [
      "Songul F 1\n"
     ]
    },
    {
     "name": "stderr",
     "output_type": "stream",
     "text": [
      " 24%|█████████                            | 5223/21336 [00:23<01:12, 222.75it/s]"
     ]
    },
    {
     "name": "stdout",
     "output_type": "stream",
     "text": [
      "Stefane F 1\n"
     ]
    },
    {
     "name": "stderr",
     "output_type": "stream",
     "text": [
      " 25%|█████████▎                           | 5337/21336 [00:24<01:13, 217.84it/s]"
     ]
    },
    {
     "name": "stdout",
     "output_type": "stream",
     "text": [
      "Sumeyra F 1\n"
     ]
    },
    {
     "name": "stderr",
     "output_type": "stream",
     "text": [
      " 27%|██████████                           | 5767/21336 [00:26<01:10, 220.43it/s]"
     ]
    },
    {
     "name": "stdout",
     "output_type": "stream",
     "text": [
      "Thorbjorn M 1\n"
     ]
    },
    {
     "name": "stderr",
     "output_type": "stream",
     "text": [
      " 27%|██████████                           | 5834/21336 [00:26<01:10, 218.51it/s]"
     ]
    },
    {
     "name": "stdout",
     "output_type": "stream",
     "text": [
      "Timea F 1\n"
     ]
    },
    {
     "name": "stderr",
     "output_type": "stream",
     "text": [
      " 29%|██████████▌                          | 6082/21336 [00:27<01:10, 217.87it/s]"
     ]
    },
    {
     "name": "stdout",
     "output_type": "stream",
     "text": [
      "Vache M 1\n"
     ]
    },
    {
     "name": "stderr",
     "output_type": "stream",
     "text": [
      " 29%|██████████▊                          | 6220/21336 [00:28<01:07, 222.49it/s]"
     ]
    },
    {
     "name": "stdout",
     "output_type": "stream",
     "text": [
      "Viktoria F 1\n",
      "Vitor M 1\n"
     ]
    },
    {
     "name": "stderr",
     "output_type": "stream",
     "text": [
      " 31%|███████████▎                         | 6534/21336 [00:29<01:08, 217.05it/s]"
     ]
    },
    {
     "name": "stdout",
     "output_type": "stream",
     "text": [
      "Wlodzimierz M 1\n"
     ]
    },
    {
     "name": "stderr",
     "output_type": "stream",
     "text": [
      " 38%|█████████████▉                       | 8030/21336 [00:36<01:00, 220.50it/s]"
     ]
    },
    {
     "name": "stdout",
     "output_type": "stream",
     "text": [
      "Zalan M 1\n"
     ]
    },
    {
     "name": "stderr",
     "output_type": "stream",
     "text": [
      " 45%|████████████████▍                    | 9498/21336 [00:43<00:53, 221.19it/s]"
     ]
    },
    {
     "name": "stdout",
     "output_type": "stream",
     "text": [
      "Inigo M 1\n"
     ]
    },
    {
     "name": "stderr",
     "output_type": "stream",
     "text": [
      " 45%|████████████████▋                    | 9590/21336 [00:43<00:53, 220.43it/s]"
     ]
    },
    {
     "name": "stdout",
     "output_type": "stream",
     "text": [
      "Inaki M 1\n"
     ]
    },
    {
     "name": "stderr",
     "output_type": "stream",
     "text": [
      " 45%|████████████████▋                    | 9636/21336 [00:43<00:53, 219.57it/s]"
     ]
    },
    {
     "name": "stdout",
     "output_type": "stream",
     "text": [
      "Havard M 1\n"
     ]
    },
    {
     "name": "stderr",
     "output_type": "stream",
     "text": [
      " 46%|█████████████████                    | 9863/21336 [00:44<00:52, 217.23it/s]"
     ]
    },
    {
     "name": "stdout",
     "output_type": "stream",
     "text": [
      "Ildiko F 1\n"
     ]
    },
    {
     "name": "stderr",
     "output_type": "stream",
     "text": [
      "100%|████████████████████████████████████| 21336/21336 [00:45<00:00, 471.81it/s]\n"
     ]
    }
   ],
   "source": [
    "# Uncomment the below code\n",
    "# import ssl\n",
    "# ssl._create_default_https_context = ssl._create_unverified_context\n",
    "\n",
    "# Import the data (see below for data retrieval)\n",
    "uci_names = pd.read_csv('https://archive.ics.uci.edu/ml/machine-learning-databases/00591/name_gender_dataset.csv')\n",
    "\n",
    "# Run the function\n",
    "search_gender_from_data(names_genders, uci_names, 'Name', 'Gender')\n",
    "\n",
    "# Sort the data so that no-retrieved data is first\n",
    "names_genders = names_genders.sort_values(['gender', 'prob', 'first_name'], \n",
    "                                               ascending = [0,0,1], \n",
    "                                               na_position= 'first').reset_index(drop = True)\n",
    "# Update the names-genders csv\n",
    "names_genders.to_csv('data/names_genders.csv', index = False)"
   ]
  },
  {
   "cell_type": "markdown",
   "id": "e53bb87a",
   "metadata": {},
   "source": [
    "# Pull the genders from Genderize.io API"
   ]
  },
  {
   "cell_type": "code",
   "execution_count": 35,
   "id": "313eec04",
   "metadata": {},
   "outputs": [],
   "source": [
    "# A helper function to update data from APIs, etc\n",
    "\n",
    "def update_names_table(names_genders, limit = 500):\n",
    "    \n",
    "    try: \n",
    "        # For-loop querying the genderize.io API\n",
    "        for i in tqdm(range(limit)):\n",
    "\n",
    "            # Extract the name\n",
    "            first_name = names_genders.loc[i, 'first_name'] # first name\n",
    "\n",
    "            # Check if the name has already been checked\n",
    "            ## Query only if the name hasn't been checked already\n",
    "            if names_genders.loc[i, 'prob'] >= 0 and names_genders.loc[i, 'prob'] <= 1:\n",
    "                pass\n",
    "\n",
    "            else:\n",
    "                # Try querying the Genderize.io API\n",
    "                gender_info = Genderize().get([first_name])\n",
    "                names_genders.loc[i, 'gender'] = gender_info[0]['gender']\n",
    "                names_genders.loc[i,'prob'] = gender_info[0]['probability']\n",
    "\n",
    "    except:\n",
    "        print(f'Iteration nr {i}')\n",
    "        print('Limit likely exceeded.')\n",
    "\n",
    "     # Sort the data so that no-retrieved data is first\n",
    "    names_genders = names_genders.sort_values(['gender', 'prob', 'first_name'], \n",
    "                                               ascending = [0,0,1], \n",
    "                                               na_position= 'first').reset_index(drop = True)\n",
    "    # Write to csv once data is pulled\n",
    "    names_genders.to_csv('data/names_genders.csv', index = False)"
   ]
  },
  {
   "cell_type": "code",
   "execution_count": 36,
   "id": "664137fc",
   "metadata": {},
   "outputs": [
    {
     "name": "stderr",
     "output_type": "stream",
     "text": [
      " 94%|██████████████████████████████████████▎  | 187/200 [03:51<00:16,  1.24s/it]"
     ]
    },
    {
     "name": "stdout",
     "output_type": "stream",
     "text": [
      "Iteration nr 187\n",
      "Limit likely exceeded.\n"
     ]
    },
    {
     "name": "stderr",
     "output_type": "stream",
     "text": [
      "\n"
     ]
    }
   ],
   "source": [
    "# Run the function that querys names from Genderize.io\n",
    "update_names_table(names_genders, 200)"
   ]
  },
  {
   "cell_type": "code",
   "execution_count": null,
   "id": "b5a76d3b",
   "metadata": {},
   "outputs": [],
   "source": []
  },
  {
   "cell_type": "code",
   "execution_count": 117,
   "id": "9a97c766",
   "metadata": {},
   "outputs": [
    {
     "name": "stdout",
     "output_type": "stream",
     "text": [
      "Cloning into 'Chinese-Names-Corpus'...\n",
      "remote: Enumerating objects: 266, done.\u001b[K\n",
      "remote: Counting objects: 100% (53/53), done.\u001b[K\n",
      "remote: Compressing objects: 100% (28/28), done.\u001b[K\n",
      "remote: Total 266 (delta 26), reused 44 (delta 25), pack-reused 213\u001b[K\n",
      "Receiving objects: 100% (266/266), 35.93 MiB | 7.47 MiB/s, done.\n",
      "Resolving deltas: 100% (141/141), done.\n"
     ]
    }
   ],
   "source": [
    "# A sloppy solution for the Chinese Names data:\n",
    "\n",
    "# Clone the Github repo\n",
    "!git clone https://github.com/wainshine/Chinese-Names-Corpus\n",
    "\n",
    "# Import the data\n",
    "chinese_names = pd.read_table('./Chinese-Names-Corpus/English_Names_Corpus/English_Cn_Name_Corpus_Gender（48W）.txt',\n",
    "                             sep = '|',\n",
    "                            names=['name_chi', 'name_eng', 'gender']\n",
    "                         )\n",
    "\n",
    "# Remove rows that do not include alphabetical letters\n",
    "chinese_names = chinese_names[chinese_names['name_eng'].str.contains('[A-Za-z]', na=False)].reset_index(drop = True)\n",
    "chinese_names = chinese_names[~(chinese_names['name_eng'].str.len() < 4)].reset_index(drop = True)\n",
    "chinese_names['name_eng'] = chinese_names['name_eng'].str.replace(' ', '')\n",
    "\n",
    "# Drop duplicates\n",
    "chinese_names = chinese_names.drop_duplicates('name_eng').reset_index(drop = True)\n",
    "\n",
    "# # Select only the English version and gender\n",
    "chinese_names = chinese_names[['name_eng', 'gender']]\n",
    "\n",
    "# Save to csv\n",
    "chinese_names.to_csv('chinese_names.csv', index = False)\n",
    "\n",
    "# Remove the directory, as it is not needed anymore\n",
    "!rm -rf Chinese-Names-Corpus"
   ]
  },
  {
   "cell_type": "code",
   "execution_count": null,
   "id": "b570df13",
   "metadata": {},
   "outputs": [],
   "source": []
  }
 ],
 "metadata": {
  "kernelspec": {
   "display_name": "Python 3 (ipykernel)",
   "language": "python",
   "name": "python3"
  },
  "language_info": {
   "codemirror_mode": {
    "name": "ipython",
    "version": 3
   },
   "file_extension": ".py",
   "mimetype": "text/x-python",
   "name": "python",
   "nbconvert_exporter": "python",
   "pygments_lexer": "ipython3",
   "version": "3.10.4"
  }
 },
 "nbformat": 4,
 "nbformat_minor": 5
}
