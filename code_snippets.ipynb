{
 "cells": [
  {
   "cell_type": "markdown",
   "id": "fffbaf94",
   "metadata": {},
   "source": [
    "# Data Retrieval Scripts\n",
    "I combined data from several sources + fixed some rows manually. Here are links to the sources:\n",
    "\n",
    "- UCI Name-Gender Dataset: https://archive.ics.uci.edu/ml/datasets/Gender+by+Name\n",
    "    - Downloaded the dataset and matched the names I had in my own dataset. If match found, prob = 1.\n",
    "- Chinese-English Names-Genders Corpus: https://raw.githubusercontent.com/wainshine/Chinese-Names-Corpus/master/English_Names_Corpus/English_Cn_Name_Corpus_Gender（48W）.txt\n",
    "\n",
    "- Behind the Name Downloadable Dataset: https://www.behindthename.com/api/\n",
    "\n",
    "- Genderize.io: https://genderize.io/\n",
    "    - Querying names one at a time. There is a daily limit to appx 1500 queries per IP-address."
   ]
  },
  {
   "cell_type": "code",
   "execution_count": 66,
   "id": "ab245104",
   "metadata": {},
   "outputs": [
    {
     "name": "stdout",
     "output_type": "stream",
     "text": [
      "Collecting unidecode\n",
      "  Downloading Unidecode-1.3.6-py3-none-any.whl (235 kB)\n",
      "\u001b[2K     \u001b[90m━━━━━━━━━━━━━━━━━━━━━━━━━━━━━━━━━━━━━━━\u001b[0m \u001b[32m235.9/235.9 kB\u001b[0m \u001b[31m3.8 MB/s\u001b[0m eta \u001b[36m0:00:00\u001b[0ma \u001b[36m0:00:01\u001b[0m\n",
      "\u001b[?25hInstalling collected packages: unidecode\n",
      "Successfully installed unidecode-1.3.6\n"
     ]
    }
   ],
   "source": [
    "!pip install genderize\n",
    "!pip install unidecode"
   ]
  },
  {
   "cell_type": "code",
   "execution_count": 67,
   "id": "98c6225e",
   "metadata": {},
   "outputs": [],
   "source": [
    "import pandas as pd\n",
    "from tqdm import tqdm\n",
    "from unidecode import unidecode\n",
    "from genderize import Genderize # Gender API"
   ]
  },
  {
   "cell_type": "code",
   "execution_count": 190,
   "id": "224ed81f",
   "metadata": {},
   "outputs": [
    {
     "name": "stdout",
     "output_type": "stream",
     "text": [
      "Number of names uncategorized: 8825\n"
     ]
    },
    {
     "data": {
      "text/html": [
       "<div>\n",
       "<style scoped>\n",
       "    .dataframe tbody tr th:only-of-type {\n",
       "        vertical-align: middle;\n",
       "    }\n",
       "\n",
       "    .dataframe tbody tr th {\n",
       "        vertical-align: top;\n",
       "    }\n",
       "\n",
       "    .dataframe thead th {\n",
       "        text-align: right;\n",
       "    }\n",
       "</style>\n",
       "<table border=\"1\" class=\"dataframe\">\n",
       "  <thead>\n",
       "    <tr style=\"text-align: right;\">\n",
       "      <th></th>\n",
       "      <th>first_name</th>\n",
       "      <th>alph_value</th>\n",
       "      <th>gender</th>\n",
       "      <th>prob</th>\n",
       "    </tr>\n",
       "  </thead>\n",
       "  <tbody>\n",
       "    <tr>\n",
       "      <th>0</th>\n",
       "      <td>JanikVasily</td>\n",
       "      <td>J</td>\n",
       "      <td>NaN</td>\n",
       "      <td>NaN</td>\n",
       "    </tr>\n",
       "    <tr>\n",
       "      <th>1</th>\n",
       "      <td>JannFrederik</td>\n",
       "      <td>J</td>\n",
       "      <td>NaN</td>\n",
       "      <td>NaN</td>\n",
       "    </tr>\n",
       "    <tr>\n",
       "      <th>2</th>\n",
       "      <td>Jannatun</td>\n",
       "      <td>J</td>\n",
       "      <td>NaN</td>\n",
       "      <td>NaN</td>\n",
       "    </tr>\n",
       "    <tr>\n",
       "      <th>3</th>\n",
       "      <td>Jannes</td>\n",
       "      <td>J</td>\n",
       "      <td>NaN</td>\n",
       "      <td>NaN</td>\n",
       "    </tr>\n",
       "    <tr>\n",
       "      <th>4</th>\n",
       "      <td>Janniele</td>\n",
       "      <td>J</td>\n",
       "      <td>NaN</td>\n",
       "      <td>NaN</td>\n",
       "    </tr>\n",
       "  </tbody>\n",
       "</table>\n",
       "</div>"
      ],
      "text/plain": [
       "     first_name alph_value gender  prob\n",
       "0   JanikVasily          J    NaN   NaN\n",
       "1  JannFrederik          J    NaN   NaN\n",
       "2      Jannatun          J    NaN   NaN\n",
       "3        Jannes          J    NaN   NaN\n",
       "4      Janniele          J    NaN   NaN"
      ]
     },
     "execution_count": 190,
     "metadata": {},
     "output_type": "execute_result"
    }
   ],
   "source": [
    "# Import the df\n",
    "names_genders = pd.read_csv('data/names_genders.csv', sep = ',')\n",
    "\n",
    "# Sort to have the NAs for updating ready\n",
    "## This sort is performed every time when the data is read in\n",
    "names_genders = names_genders.sort_values(['gender', 'prob', 'first_name'], \n",
    "                          ascending = [0,0,1], \n",
    "                          na_position= 'first').reset_index(drop = True)\n",
    "print(f\"Number of names uncategorized: {names_genders['gender'].isnull().sum()}\")\n",
    "names_genders.head()"
   ]
  },
  {
   "cell_type": "markdown",
   "id": "74b56b67",
   "metadata": {},
   "source": [
    "# Match the data with external data"
   ]
  },
  {
   "cell_type": "code",
   "execution_count": 186,
   "id": "e98760f5",
   "metadata": {},
   "outputs": [],
   "source": [
    "def search_gender_from_data(names_genders, ext_data, ext_firstname, ext_gender):\n",
    "    \"\"\"Match the names with an external dataset and retrieve gender\n",
    "    Args:\n",
    "        ext_data (pd.DataFrame): external dataset to be used for matching\n",
    "        ext_firstname (str): name of the 'first_name' column in the external dataset\n",
    "        ext_gender (str): name of the 'gender' column in the external dataset\n",
    "    \"\"\"\n",
    "    \n",
    "    # Search for names from the UCI name data set\n",
    "    for i in tqdm(range(len(names_genders))):\n",
    "        \n",
    "        # If gender is already marked, ignore the row\n",
    "        if names_genders.loc[i, 'gender'] == 'M' or names_genders.loc[i, 'gender'] == 'F':\n",
    "                pass\n",
    "        else:\n",
    "            # Extract the name and letter\n",
    "            firstname = names_genders.loc[i, 'first_name']\n",
    "\n",
    "            # Search in a subset of the externalm dataset\n",
    "            idx = ext_data[ext_data[ext_firstname] == firstname].index\n",
    "\n",
    "            # If no index found, no name -> do nothing\n",
    "            if len(idx) == 0:\n",
    "                pass\n",
    "            \n",
    "            else:\n",
    "                idx = idx.values[0]\n",
    "                print(firstname, ext_data.loc[idx, ext_gender][0], 1)\n",
    "                names_genders.loc[i, 'gender'] = ext_data.loc[idx, ext_gender][0] # get the gender\n",
    "                names_genders.loc[i, 'prob'] = 1 # set prob to 1"
   ]
  },
  {
   "cell_type": "markdown",
   "id": "8f6a511e",
   "metadata": {},
   "source": [
    "### Use the Chinese data to fetch names"
   ]
  },
  {
   "cell_type": "code",
   "execution_count": null,
   "id": "01e342c3",
   "metadata": {},
   "outputs": [],
   "source": [
    "# Import the data (see below for data retrieval)\n",
    "chinese_names = pd.read_csv('chinese_names.csv')\n",
    "\n",
    "# Run the function\n",
    "search_gender_from_data(names_genders, chinese_names, 'name_eng', 'gender')\n",
    "\n",
    "# Sort the data so that no-retrieved data is first\n",
    "names_genders = names_genders.sort_values(['gender', 'prob', 'first_name'], \n",
    "                                               ascending = [0,0,1], \n",
    "                                               na_position= 'first').reset_index(drop = True)\n",
    "# Update the names-genders csv\n",
    "names_genders.to_csv('data/names_genders.csv', index = False)\n",
    "\n",
    "# Remove the Chinese names tables\n",
    "! rm chinese_names.csv"
   ]
  },
  {
   "cell_type": "markdown",
   "id": "14ea9591",
   "metadata": {},
   "source": [
    "### Use the UCI data"
   ]
  },
  {
   "cell_type": "code",
   "execution_count": null,
   "id": "f89813f4",
   "metadata": {},
   "outputs": [],
   "source": [
    "# Uncomment the below code\n",
    "# import ssl\n",
    "# ssl._create_default_https_context = ssl._create_unverified_context\n",
    "\n",
    "# Import the data (see below for data retrieval)\n",
    "uci_names = pd.read_csv('https://archive.ics.uci.edu/ml/machine-learning-databases/00591/name_gender_dataset.csv')\n",
    "\n",
    "# Run the function\n",
    "search_gender_from_data(names_genders, uci_names, 'Name', 'Gender')\n",
    "\n",
    "# Sort the data so that no-retrieved data is first\n",
    "names_genders = names_genders.sort_values(['gender', 'prob', 'first_name'], \n",
    "                                               ascending = [0,0,1], \n",
    "                                               na_position= 'first').reset_index(drop = True)\n",
    "# Update the names-genders csv\n",
    "names_genders.to_csv('data/names_genders.csv', index = False)"
   ]
  },
  {
   "cell_type": "markdown",
   "id": "5369984d",
   "metadata": {},
   "source": [
    "### Use the Behind the Name data"
   ]
  },
  {
   "cell_type": "code",
   "execution_count": 187,
   "id": "fa041788",
   "metadata": {},
   "outputs": [
    {
     "data": {
      "text/html": [
       "<div>\n",
       "<style scoped>\n",
       "    .dataframe tbody tr th:only-of-type {\n",
       "        vertical-align: middle;\n",
       "    }\n",
       "\n",
       "    .dataframe tbody tr th {\n",
       "        vertical-align: top;\n",
       "    }\n",
       "\n",
       "    .dataframe thead th {\n",
       "        text-align: right;\n",
       "    }\n",
       "</style>\n",
       "<table border=\"1\" class=\"dataframe\">\n",
       "  <thead>\n",
       "    <tr style=\"text-align: right;\">\n",
       "      <th></th>\n",
       "      <th>name</th>\n",
       "      <th>gender</th>\n",
       "    </tr>\n",
       "  </thead>\n",
       "  <tbody>\n",
       "    <tr>\n",
       "      <th>0</th>\n",
       "      <td>Aabraham</td>\n",
       "      <td>M</td>\n",
       "    </tr>\n",
       "    <tr>\n",
       "      <th>1</th>\n",
       "      <td>Aada</td>\n",
       "      <td>F</td>\n",
       "    </tr>\n",
       "    <tr>\n",
       "      <th>2</th>\n",
       "      <td>Aadan</td>\n",
       "      <td>M</td>\n",
       "    </tr>\n",
       "    <tr>\n",
       "      <th>3</th>\n",
       "      <td>Aadolf</td>\n",
       "      <td>M</td>\n",
       "    </tr>\n",
       "    <tr>\n",
       "      <th>4</th>\n",
       "      <td>Aafje</td>\n",
       "      <td>F</td>\n",
       "    </tr>\n",
       "    <tr>\n",
       "      <th>...</th>\n",
       "      <td>...</td>\n",
       "      <td>...</td>\n",
       "    </tr>\n",
       "    <tr>\n",
       "      <th>24273</th>\n",
       "      <td>Zydre</td>\n",
       "      <td>F</td>\n",
       "    </tr>\n",
       "    <tr>\n",
       "      <th>24274</th>\n",
       "      <td>Zydrunas</td>\n",
       "      <td>M</td>\n",
       "    </tr>\n",
       "    <tr>\n",
       "      <th>24275</th>\n",
       "      <td>Zygfryd</td>\n",
       "      <td>M</td>\n",
       "    </tr>\n",
       "    <tr>\n",
       "      <th>24276</th>\n",
       "      <td>Zygmunt</td>\n",
       "      <td>M</td>\n",
       "    </tr>\n",
       "    <tr>\n",
       "      <th>24277</th>\n",
       "      <td>Zyta</td>\n",
       "      <td>F</td>\n",
       "    </tr>\n",
       "  </tbody>\n",
       "</table>\n",
       "<p>24278 rows × 2 columns</p>\n",
       "</div>"
      ],
      "text/plain": [
       "           name gender\n",
       "0      Aabraham      M\n",
       "1          Aada      F\n",
       "2         Aadan      M\n",
       "3        Aadolf      M\n",
       "4         Aafje      F\n",
       "...         ...    ...\n",
       "24273     Zydre      F\n",
       "24274  Zydrunas      M\n",
       "24275   Zygfryd      M\n",
       "24276   Zygmunt      M\n",
       "24277      Zyta      F\n",
       "\n",
       "[24278 rows x 2 columns]"
      ]
     },
     "execution_count": 187,
     "metadata": {},
     "output_type": "execute_result"
    }
   ],
   "source": [
    "btn_names = pd.read_table('data/btn_givennames.txt')\n",
    "\n",
    "# Do the data cleaning\n",
    "btn_names['name'] = btn_names['name'].apply(unidecode)\n",
    "btn_names = btn_names[btn_names['name'].str.contains('[A-Za-z]', na=False)].reset_index(drop = True)\n",
    "btn_names = btn_names[~(btn_names['name'].str.len() < 4)].reset_index(drop = True)\n",
    "btn_names['name'] = btn_names['name'].str.replace(' ', '')\n",
    "btn_names['gender'] = btn_names['gender'].str.upper()\n",
    "btn_names"
   ]
  },
  {
   "cell_type": "code",
   "execution_count": 188,
   "id": "f375dfdc",
   "metadata": {},
   "outputs": [
    {
     "name": "stderr",
     "output_type": "stream",
     "text": [
      "  1%|▎                                    | 201/21336 [00:00<00:20, 1043.77it/s]"
     ]
    },
    {
     "name": "stdout",
     "output_type": "stream",
     "text": [
      "Jaouad M 1\n",
      "Jarmo M 1\n",
      "Jaroslava F 1\n",
      "Jayadev M 1\n",
      "Jayanta M 1\n",
      "Jayashri F 1\n",
      "Jedrzej M 1\n",
      "Jeppe M 1\n",
      "Jernej M 1\n",
      "Jevgenija F 1\n",
      "Jiang M 1\n",
      "Jianhong M 1\n"
     ]
    },
    {
     "name": "stderr",
     "output_type": "stream",
     "text": [
      "  4%|█▍                                   | 827/21336 [00:00<00:16, 1226.48it/s]"
     ]
    },
    {
     "name": "stdout",
     "output_type": "stream",
     "text": [
      "Joeri M 1\n",
      "Jonatas M 1\n",
      "Joona M 1\n",
      "Joonas M 1\n",
      "Jordao M 1\n",
      "JoseAntonio M 1\n",
      "JoseMaria M 1\n",
      "Jouko M 1\n",
      "JuanJose M 1\n",
      "JuanManuel M 1\n",
      "JuanPablo M 1\n",
      "Juhan M 1\n",
      "Juhana M 1\n",
      "Jurgita F 1\n",
      "Jurica M 1\n",
      "Jussi M 1\n",
      "Kahina F 1\n",
      "Kallistos M 1\n",
      "Kambiz M 1\n",
      "Kanchana F 1\n"
     ]
    },
    {
     "name": "stderr",
     "output_type": "stream",
     "text": [
      "  6%|██                                  | 1200/21336 [00:01<00:16, 1231.35it/s]"
     ]
    },
    {
     "name": "stdout",
     "output_type": "stream",
     "text": [
      "Kanstantsin M 1\n",
      "Karlijn F 1\n",
      "Karolos M 1\n",
      "Katsuhito M 1\n",
      "Katsuro M 1\n",
      "Kazuhiko M 1\n",
      "Kejsi F 1\n",
      "Ketil M 1\n",
      "Khadijeh F 1\n",
      "Khwaja M 1\n",
      "Kimmo M 1\n",
      "Kirils M 1\n",
      "Kishori F 1\n",
      "Kivanc M 1\n",
      "Klavdiya F 1\n",
      "Kleitos M 1\n",
      "Klemen M 1\n",
      "Klemens M 1\n",
      "Koenraad M 1\n",
      "Kolos M 1\n"
     ]
    },
    {
     "name": "stderr",
     "output_type": "stream",
     "text": [
      "  7%|██▍                                 | 1450/21336 [00:01<00:16, 1238.60it/s]"
     ]
    },
    {
     "name": "stdout",
     "output_type": "stream",
     "text": [
      "Kostyantyn M 1\n",
      "Kouji M 1\n",
      "Kristiyan M 1\n",
      "Krste M 1\n",
      "Kshitij M 1\n",
      "Kuzman M 1\n",
      "Lassi M 1\n",
      "Laurentiu M 1\n",
      "Leifur M 1\n",
      "Leontios M 1\n",
      "Lesya F 1\n",
      "Lieven M 1\n"
     ]
    },
    {
     "name": "stderr",
     "output_type": "stream",
     "text": [
      "  9%|███                                 | 1826/21336 [00:01<00:15, 1236.11it/s]"
     ]
    },
    {
     "name": "stdout",
     "output_type": "stream",
     "text": [
      "Liubov F 1\n",
      "Liudmila F 1\n",
      "Liudmyla F 1\n",
      "Liviu M 1\n",
      "Liwen M 1\n",
      "Ljerka F 1\n",
      "Lodewijk M 1\n",
      "Lojze M 1\n",
      "Lorand M 1\n",
      "Lovro M 1\n",
      "Lubos M 1\n",
      "Ludek M 1\n",
      "Ludivine F 1\n",
      "Luminita F 1\n",
      "Lutfi M 1\n",
      "Lutfiye F 1\n",
      "Lutgarde F 1\n",
      "Lykourgos M 1\n",
      "Maarit F 1\n",
      "Maartje F 1\n",
      "Madhukar M 1\n",
      "Madita F 1\n",
      "Magdy M 1\n",
      "Magomed M 1\n",
      "Maimunah F 1\n",
      "Maksims M 1\n",
      "Malati F 1\n",
      "Mamman M 1\n",
      "MariaCristina F 1\n",
      "MariadelMar F 1\n",
      "Marijn M 1\n",
      "Marnix M 1\n"
     ]
    },
    {
     "name": "stderr",
     "output_type": "stream",
     "text": [
      " 10%|███▋                                | 2202/21336 [00:01<00:15, 1236.44it/s]"
     ]
    },
    {
     "name": "stdout",
     "output_type": "stream",
     "text": [
      "Martim M 1\n",
      "Masahiko M 1\n",
      "Masoumeh F 1\n",
      "Mateu M 1\n",
      "Matevz M 1\n",
      "Matjaz M 1\n",
      "Matko M 1\n",
      "Meadhbh F 1\n",
      "Medhat M 1\n",
      "Mesud M 1\n",
      "Metod M 1\n",
      "Midhat M 1\n",
      "MiguelAngel M 1\n",
      "Mihkel M 1\n",
      "Miloslav M 1\n",
      "Minko M 1\n",
      "Minoo F 1\n",
      "Mirco M 1\n",
      "Mitja M 1\n"
     ]
    },
    {
     "name": "stderr",
     "output_type": "stream",
     "text": [
      " 12%|████▎                               | 2574/21336 [00:02<00:15, 1235.92it/s]"
     ]
    },
    {
     "name": "stdout",
     "output_type": "stream",
     "text": [
      "Mogens M 1\n",
      "Mojdeh F 1\n",
      "Momir M 1\n",
      "Moray M 1\n",
      "Morvarid F 1\n",
      "Mozhgan F 1\n",
      "Murugan M 1\n",
      "Muthoni F 1\n",
      "Mykhailo M 1\n",
      "Myrthe F 1\n",
      "Nadiia F 1\n",
      "Naoise M 1\n",
      "Nazgul F 1\n",
      "Necla F 1\n",
      "Neofytos M 1\n"
     ]
    },
    {
     "name": "stderr",
     "output_type": "stream",
     "text": [
      " 14%|████▉                               | 2949/21336 [00:02<00:14, 1234.83it/s]"
     ]
    },
    {
     "name": "stdout",
     "output_type": "stream",
     "text": [
      "Nezihe F 1\n",
      "Nigora F 1\n",
      "Nigul M 1\n",
      "Nilima F 1\n",
      "Nitzan M 1\n",
      "Nolwenn F 1\n",
      "Noureddin M 1\n",
      "Nurettin M 1\n",
      "Odhran M 1\n",
      "Oivind M 1\n",
      "Olegs M 1\n",
      "Oleksandra F 1\n",
      "Orsolya F 1\n",
      "Osvald M 1\n",
      "Othmane M 1\n",
      "Otokar M 1\n",
      "Oualid M 1\n",
      "Oumarou M 1\n",
      "Oystein M 1\n",
      "Oyvind M 1\n",
      "Ozgur M 1\n",
      "Palina F 1\n",
      "Pallab M 1\n",
      "Pascaline F 1\n",
      "Paskal M 1\n",
      "Pauliina F 1\n",
      "Pavol M 1\n",
      "Pelayo M 1\n",
      "Pencho M 1\n"
     ]
    },
    {
     "name": "stderr",
     "output_type": "stream",
     "text": [
      " 16%|█████▌                              | 3326/21336 [00:02<00:14, 1244.36it/s]"
     ]
    },
    {
     "name": "stdout",
     "output_type": "stream",
     "text": [
      "Pentti M 1\n",
      "Pepijn M 1\n",
      "Pertti M 1\n",
      "Petteri M 1\n",
      "Petya M 1\n",
      "Pierpaolo M 1\n",
      "Pierrick M 1\n",
      "Pirouz M 1\n",
      "Placid M 1\n",
      "Polona F 1\n",
      "Pradip M 1\n",
      "Prasanna M 1\n",
      "Prasenjit M 1\n",
      "Pritha F 1\n",
      "Przemek M 1\n",
      "Przemyslaw M 1\n",
      "Putri F 1\n",
      "Qinglong M 1\n"
     ]
    },
    {
     "name": "stderr",
     "output_type": "stream",
     "text": [
      " 17%|██████▏                             | 3702/21336 [00:03<00:14, 1240.27it/s]"
     ]
    },
    {
     "name": "stdout",
     "output_type": "stream",
     "text": [
      "Radboud M 1\n",
      "Radim M 1\n",
      "Radko M 1\n",
      "Radomil M 1\n",
      "Radoslaw M 1\n",
      "Raimondas M 1\n",
      "Rajib M 1\n",
      "Rajmund M 1\n",
      "Rasel M 1\n",
      "Rasoul M 1\n",
      "Ratnam M 1\n",
      "Reinoud M 1\n",
      "Reinout M 1\n",
      "Renars M 1\n",
      "Renske F 1\n",
      "Resit M 1\n",
      "Riikka F 1\n",
      "Rinat M 1\n",
      "Rodica F 1\n",
      "Rogier M 1\n",
      "Romeu M 1\n",
      "Roope M 1\n",
      "Rositsa F 1\n",
      "Rozenn F 1\n",
      "Rudiger M 1\n"
     ]
    },
    {
     "name": "stderr",
     "output_type": "stream",
     "text": [
      " 19%|██████▉                             | 4077/21336 [00:03<00:13, 1242.21it/s]"
     ]
    },
    {
     "name": "stdout",
     "output_type": "stream",
     "text": [
      "Rukiye F 1\n",
      "Rustem M 1\n",
      "Ryoichi M 1\n",
      "Sadegh M 1\n",
      "Saeid M 1\n",
      "Saiful M 1\n",
      "Sakine F 1\n",
      "Salme F 1\n",
      "Samuli M 1\n",
      "Sanjib M 1\n",
      "Sanjin M 1\n",
      "Santeri M 1\n",
      "Sasko M 1\n",
      "Sebnem F 1\n"
     ]
    },
    {
     "name": "stderr",
     "output_type": "stream",
     "text": [
      " 21%|███████▌                            | 4455/21336 [00:03<00:13, 1250.61it/s]"
     ]
    },
    {
     "name": "stdout",
     "output_type": "stream",
     "text": [
      "Semen M 1\n",
      "Senol M 1\n",
      "Seong M 1\n",
      "Seppo M 1\n",
      "Sergejs M 1\n",
      "Serhii M 1\n",
      "Serif M 1\n",
      "Sevil F 1\n",
      "Shahrokh M 1\n",
      "Shankara M 1\n",
      "Sherzod M 1\n"
     ]
    },
    {
     "name": "stderr",
     "output_type": "stream",
     "text": [
      " 23%|████████▏                           | 4834/21336 [00:03<00:13, 1249.19it/s]"
     ]
    },
    {
     "name": "stdout",
     "output_type": "stream",
     "text": [
      "Shinsuke M 1\n",
      "Shirou M 1\n",
      "Shohreh F 1\n",
      "Shouta M 1\n",
      "Shresth M 1\n",
      "Siarhei M 1\n",
      "Sibusiso M 1\n",
      "Sietse M 1\n",
      "Silviu M 1\n",
      "Simge F 1\n",
      "Sindre M 1\n",
      "Sindri M 1\n",
      "Sixte M 1\n",
      "Sixtine F 1\n"
     ]
    },
    {
     "name": "stderr",
     "output_type": "stream",
     "text": [
      " 24%|████████▊                           | 5209/21336 [00:04<00:13, 1239.82it/s]"
     ]
    },
    {
     "name": "stdout",
     "output_type": "stream",
     "text": [
      "Sjaak M 1\n",
      "Sjoerd M 1\n",
      "Slawomir M 1\n",
      "Somayeh F 1\n",
      "Sondre M 1\n",
      "Souma M 1\n",
      "Spela F 1\n",
      "Stanka F 1\n",
      "Steinn M 1\n",
      "Stien F 1\n",
      "Stijn M 1\n",
      "Stine F 1\n",
      "Subramanian M 1\n",
      "Sudheer M 1\n",
      "Sukhwinder M 1\n",
      "Sumati F 1\n",
      "Sunan M 1\n"
     ]
    },
    {
     "name": "stderr",
     "output_type": "stream",
     "text": [
      " 26%|█████████▍                          | 5584/21336 [00:04<00:12, 1241.34it/s]"
     ]
    },
    {
     "name": "stdout",
     "output_type": "stream",
     "text": [
      "Svante M 1\n",
      "Svein M 1\n",
      "Sveinn M 1\n",
      "Svetla F 1\n",
      "Sviatlana F 1\n",
      "Svyatoslav M 1\n",
      "Sylwester M 1\n",
      "Syuzanna F 1\n",
      "Szczepan M 1\n",
      "Szilveszter M 1\n",
      "Taavet M 1\n",
      "Tadej M 1\n",
      "Takehiko M 1\n",
      "Tancredi M 1\n",
      "Tanel M 1\n",
      "Taneli M 1\n",
      "Tayeb M 1\n",
      "Teemu M 1\n",
      "Telmo M 1\n",
      "Teppo M 1\n",
      "Terhi F 1\n",
      "Terje M 1\n",
      "Tetyana F 1\n",
      "Tevfik M 1\n",
      "Tharindu M 1\n",
      "Theophanes M 1\n",
      "Thibaud M 1\n",
      "Thiemo M 1\n",
      "Thorarinn M 1\n",
      "Thorben M 1\n",
      "Thore M 1\n",
      "Thorir M 1\n"
     ]
    },
    {
     "name": "stderr",
     "output_type": "stream",
     "text": [
      " 28%|██████████                          | 5960/21336 [00:04<00:12, 1236.67it/s]"
     ]
    },
    {
     "name": "stdout",
     "output_type": "stream",
     "text": [
      "Tiberiu M 1\n",
      "Torbjorn M 1\n",
      "Torgeir M 1\n",
      "Tornike M 1\n",
      "Traian M 1\n",
      "Troels M 1\n",
      "Truls M 1\n",
      "Tugba F 1\n",
      "Tugce F 1\n",
      "Tuomo M 1\n",
      "Turgay M 1\n",
      "Tuukka M 1\n",
      "Tuuli F 1\n",
      "Tymofiy M 1\n",
      "Uduak M 1\n",
      "Ulisse M 1\n",
      "Vahit M 1\n",
      "Valentyn M 1\n",
      "Valeriu M 1\n",
      "Valtteri M 1\n",
      "Varghese M 1\n",
      "Varuna M 1\n",
      "Vasant M 1\n",
      "Vaska M 1\n",
      "Veerle F 1\n",
      "Veljko M 1\n"
     ]
    },
    {
     "name": "stderr",
     "output_type": "stream",
     "text": [
      " 30%|██████████▋                         | 6333/21336 [00:05<00:12, 1230.44it/s]"
     ]
    },
    {
     "name": "stdout",
     "output_type": "stream",
     "text": [
      "Venkata M 1\n",
      "Vetle M 1\n",
      "Vicenc M 1\n",
      "Vihtori M 1\n",
      "Viivi F 1\n",
      "Viktoriia F 1\n",
      "Vilde F 1\n",
      "Vilhelm M 1\n",
      "Viliam M 1\n",
      "Viljem M 1\n",
      "Vilmar M 1\n",
      "Virgile M 1\n",
      "Vitalik M 1\n",
      "Vitezslav M 1\n",
      "Vladan M 1\n",
      "Vojtech M 1\n",
      "Volkmar M 1\n",
      "Vugar M 1\n",
      "Wadud M 1\n",
      "Wahida F 1\n",
      "Werther M 1\n",
      "Willemijn F 1\n"
     ]
    },
    {
     "name": "stderr",
     "output_type": "stream",
     "text": [
      " 34%|████████████▏                       | 7214/21336 [00:05<00:11, 1246.30it/s]"
     ]
    },
    {
     "name": "stdout",
     "output_type": "stream",
     "text": [
      "Yahui F 1\n",
      "Yakup M 1\n",
      "Yating F 1\n",
      "Yauhen M 1\n",
      "Yawen F 1\n",
      "Yelyzaveta F 1\n",
      "Yeong F 1\n",
      "Yevgen M 1\n",
      "Yevhen M 1\n",
      "Yevheniya F 1\n",
      "Yiftach M 1\n",
      "Yijun M 1\n"
     ]
    },
    {
     "name": "stderr",
     "output_type": "stream",
     "text": [
      " 36%|████████████▊                       | 7591/21336 [00:06<00:11, 1247.88it/s]"
     ]
    },
    {
     "name": "stdout",
     "output_type": "stream",
     "text": [
      "Yngve M 1\n",
      "Yngvi M 1\n",
      "Ysbrand M 1\n"
     ]
    },
    {
     "name": "stderr",
     "output_type": "stream",
     "text": [
      " 37%|█████████████▍                      | 7968/21336 [00:06<00:10, 1247.65it/s]"
     ]
    },
    {
     "name": "stdout",
     "output_type": "stream",
     "text": [
      "Yudai M 1\n",
      "Zbynek M 1\n",
      "Zedong M 1\n",
      "Zhaleh F 1\n"
     ]
    },
    {
     "name": "stderr",
     "output_type": "stream",
     "text": [
      " 40%|██████████████▎                     | 8472/21336 [00:06<00:10, 1251.95it/s]"
     ]
    },
    {
     "name": "stdout",
     "output_type": "stream",
     "text": [
      "Zhihao M 1\n",
      "Ziaeddin M 1\n",
      "Ziynet F 1\n",
      "Zohreh F 1\n",
      "Zsigmond M 1\n",
      "Zsombor M 1\n",
      "Zurab M 1\n"
     ]
    },
    {
     "name": "stderr",
     "output_type": "stream",
     "text": [
      " 44%|███████████████▊                    | 9361/21336 [00:07<00:09, 1262.70it/s]"
     ]
    },
    {
     "name": "stdout",
     "output_type": "stream",
     "text": [
      "Harkaitz M 1\n",
      "Hideaki M 1\n",
      "Hlynur M 1\n",
      "Hormoz M 1\n",
      "Ildar M 1\n",
      "Iulian M 1\n",
      "Ivaylo M 1\n",
      "Iztok M 1\n",
      "Jagadish M 1\n",
      "Harshad M 1\n",
      "Horatiu M 1\n",
      "Iacopo M 1\n",
      "Ignas M 1\n",
      "Ignasi M 1\n",
      "Ilshat M 1\n",
      "Indrajit M 1\n",
      "Ionut M 1\n"
     ]
    },
    {
     "name": "stderr",
     "output_type": "stream",
     "text": [
      " 46%|████████████████▍                   | 9739/21336 [00:07<00:09, 1239.92it/s]"
     ]
    },
    {
     "name": "stdout",
     "output_type": "stream",
     "text": [
      "Hauke M 1\n",
      "Ionel M 1\n",
      "Jagannath M 1\n",
      "Hippolyte F 1\n",
      "Hirohito M 1\n",
      "Hasse M 1\n",
      "Hermanni M 1\n",
      "Husnu M 1\n",
      "Hibiki M 1\n",
      "Horia M 1\n",
      "Huang M 1\n",
      "Iciar F 1\n",
      "Iveta F 1\n",
      "Idoia F 1\n",
      "Intan F 1\n",
      "Ionela F 1\n",
      "Heidrun F 1\n",
      "Hulya F 1\n",
      "Ingunn F 1\n",
      "Jagna F 1\n",
      "Iiris F 1\n",
      "Henrike F 1\n"
     ]
    },
    {
     "name": "stderr",
     "output_type": "stream",
     "text": [
      "100%|███████████████████████████████████| 21336/21336 [00:08<00:00, 2650.38it/s]\n"
     ]
    }
   ],
   "source": [
    "# Run the function\n",
    "search_gender_from_data(names_genders, btn_names, 'name', 'gender')\n"
   ]
  },
  {
   "cell_type": "code",
   "execution_count": 189,
   "id": "3fdffa90",
   "metadata": {},
   "outputs": [],
   "source": [
    "\n",
    "# Sort the data so that no-retrieved data is first\n",
    "names_genders = names_genders.sort_values(['gender', 'prob', 'first_name'], \n",
    "                                               ascending = [0,0,1], \n",
    "                                               na_position= 'first').reset_index(drop = True)\n",
    "# Update the names-genders csv\n",
    "names_genders.to_csv('data/names_genders.csv', index = False)"
   ]
  },
  {
   "cell_type": "markdown",
   "id": "e53bb87a",
   "metadata": {},
   "source": [
    "# Pull the genders from Genderize.io API"
   ]
  },
  {
   "cell_type": "code",
   "execution_count": 35,
   "id": "313eec04",
   "metadata": {},
   "outputs": [],
   "source": [
    "# A helper function to update data from APIs, etc\n",
    "\n",
    "def update_names_table(names_genders, limit = 500):\n",
    "    \n",
    "    try: \n",
    "        # For-loop querying the genderize.io API\n",
    "        for i in tqdm(range(limit)):\n",
    "\n",
    "            # Extract the name\n",
    "            first_name = names_genders.loc[i, 'first_name'] # first name\n",
    "\n",
    "            # Check if the name has already been checked\n",
    "            ## Query only if the name hasn't been checked already\n",
    "            if names_genders.loc[i, 'prob'] >= 0 and names_genders.loc[i, 'prob'] <= 1:\n",
    "                pass\n",
    "\n",
    "            else:\n",
    "                # Try querying the Genderize.io API\n",
    "                gender_info = Genderize().get([first_name])\n",
    "                names_genders.loc[i, 'gender'] = gender_info[0]['gender']\n",
    "                names_genders.loc[i,'prob'] = gender_info[0]['probability']\n",
    "\n",
    "    except:\n",
    "        print(f'Iteration nr {i}')\n",
    "        print('Limit likely exceeded.')\n",
    "\n",
    "     # Sort the data so that no-retrieved data is first\n",
    "    names_genders = names_genders.sort_values(['gender', 'prob', 'first_name'], \n",
    "                                               ascending = [0,0,1], \n",
    "                                               na_position= 'first').reset_index(drop = True)\n",
    "    # Write to csv once data is pulled\n",
    "    names_genders.to_csv('data/names_genders.csv', index = False)"
   ]
  },
  {
   "cell_type": "code",
   "execution_count": 36,
   "id": "664137fc",
   "metadata": {},
   "outputs": [
    {
     "name": "stderr",
     "output_type": "stream",
     "text": [
      " 94%|██████████████████████████████████████▎  | 187/200 [03:51<00:16,  1.24s/it]"
     ]
    },
    {
     "name": "stdout",
     "output_type": "stream",
     "text": [
      "Iteration nr 187\n",
      "Limit likely exceeded.\n"
     ]
    },
    {
     "name": "stderr",
     "output_type": "stream",
     "text": [
      "\n"
     ]
    }
   ],
   "source": [
    "# Run the function that querys names from Genderize.io\n",
    "update_names_table(names_genders, 200)"
   ]
  },
  {
   "cell_type": "code",
   "execution_count": null,
   "id": "b5a76d3b",
   "metadata": {},
   "outputs": [],
   "source": []
  },
  {
   "cell_type": "code",
   "execution_count": 117,
   "id": "9a97c766",
   "metadata": {},
   "outputs": [
    {
     "name": "stdout",
     "output_type": "stream",
     "text": [
      "Cloning into 'Chinese-Names-Corpus'...\n",
      "remote: Enumerating objects: 266, done.\u001b[K\n",
      "remote: Counting objects: 100% (53/53), done.\u001b[K\n",
      "remote: Compressing objects: 100% (28/28), done.\u001b[K\n",
      "remote: Total 266 (delta 26), reused 44 (delta 25), pack-reused 213\u001b[K\n",
      "Receiving objects: 100% (266/266), 35.93 MiB | 7.47 MiB/s, done.\n",
      "Resolving deltas: 100% (141/141), done.\n"
     ]
    }
   ],
   "source": [
    "# A sloppy solution for the Chinese Names data:\n",
    "\n",
    "# Clone the Github repo\n",
    "!git clone https://github.com/wainshine/Chinese-Names-Corpus\n",
    "\n",
    "# Import the data\n",
    "chinese_names = pd.read_table('./Chinese-Names-Corpus/English_Names_Corpus/English_Cn_Name_Corpus_Gender（48W）.txt',\n",
    "                             sep = '|',\n",
    "                            names=['name_chi', 'name_eng', 'gender']\n",
    "                         )\n",
    "\n",
    "# Remove rows that do not include alphabetical letters\n",
    "chinese_names = chinese_names[chinese_names['name_eng'].str.contains('[A-Za-z]', na=False)].reset_index(drop = True)\n",
    "chinese_names = chinese_names[~(chinese_names['name_eng'].str.len() < 4)].reset_index(drop = True)\n",
    "chinese_names['name_eng'] = chinese_names['name_eng'].str.replace(' ', '')\n",
    "\n",
    "# Drop duplicates\n",
    "chinese_names = chinese_names.drop_duplicates('name_eng').reset_index(drop = True)\n",
    "\n",
    "# # Select only the English version and gender\n",
    "chinese_names = chinese_names[['name_eng', 'gender']]\n",
    "\n",
    "# Save to csv\n",
    "chinese_names.to_csv('chinese_names.csv', index = False)\n",
    "\n",
    "# Remove the directory, as it is not needed anymore\n",
    "!rm -rf Chinese-Names-Corpus"
   ]
  },
  {
   "cell_type": "code",
   "execution_count": null,
   "id": "b570df13",
   "metadata": {},
   "outputs": [],
   "source": []
  }
 ],
 "metadata": {
  "kernelspec": {
   "display_name": "Python 3 (ipykernel)",
   "language": "python",
   "name": "python3"
  },
  "language_info": {
   "codemirror_mode": {
    "name": "ipython",
    "version": 3
   },
   "file_extension": ".py",
   "mimetype": "text/x-python",
   "name": "python",
   "nbconvert_exporter": "python",
   "pygments_lexer": "ipython3",
   "version": "3.10.4"
  }
 },
 "nbformat": 4,
 "nbformat_minor": 5
}
