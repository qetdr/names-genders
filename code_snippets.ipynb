{
 "cells": [
  {
   "cell_type": "markdown",
   "id": "fffbaf94",
   "metadata": {},
   "source": [
    "# Notebook with some code"
   ]
  },
  {
   "cell_type": "code",
   "execution_count": 1,
   "id": "94820983",
   "metadata": {},
   "outputs": [
    {
     "name": "stdout",
     "output_type": "stream",
     "text": [
      "Installing collected packages: genderize\n",
      "Successfully installed genderize-0.3.1\n"
     ]
    }
   ],
   "source": [
    "!pip install genderize"
   ]
  },
  {
   "cell_type": "code",
   "execution_count": 24,
   "id": "ea71111f",
   "metadata": {},
   "outputs": [],
   "source": [
    "import pandas as pd\n",
    "from tqdm import tqdm\n",
    "from genderize import Genderize # Gender API"
   ]
  },
  {
   "cell_type": "code",
   "execution_count": 26,
   "id": "3f0a24f8",
   "metadata": {},
   "outputs": [
    {
     "data": {
      "text/html": [
       "<div>\n",
       "<style scoped>\n",
       "    .dataframe tbody tr th:only-of-type {\n",
       "        vertical-align: middle;\n",
       "    }\n",
       "\n",
       "    .dataframe tbody tr th {\n",
       "        vertical-align: top;\n",
       "    }\n",
       "\n",
       "    .dataframe thead th {\n",
       "        text-align: right;\n",
       "    }\n",
       "</style>\n",
       "<table border=\"1\" class=\"dataframe\">\n",
       "  <thead>\n",
       "    <tr style=\"text-align: right;\">\n",
       "      <th></th>\n",
       "      <th>first_name</th>\n",
       "      <th>alph_value</th>\n",
       "      <th>gender</th>\n",
       "      <th>prob</th>\n",
       "    </tr>\n",
       "  </thead>\n",
       "  <tbody>\n",
       "    <tr>\n",
       "      <th>0</th>\n",
       "      <td>Hanyuan</td>\n",
       "      <td>H</td>\n",
       "      <td>NaN</td>\n",
       "      <td>NaN</td>\n",
       "    </tr>\n",
       "    <tr>\n",
       "      <th>1</th>\n",
       "      <td>Hanyue</td>\n",
       "      <td>H</td>\n",
       "      <td>NaN</td>\n",
       "      <td>NaN</td>\n",
       "    </tr>\n",
       "    <tr>\n",
       "      <th>2</th>\n",
       "      <td>Hanze</td>\n",
       "      <td>H</td>\n",
       "      <td>NaN</td>\n",
       "      <td>NaN</td>\n",
       "    </tr>\n",
       "    <tr>\n",
       "      <th>3</th>\n",
       "      <td>Hanzhang</td>\n",
       "      <td>H</td>\n",
       "      <td>NaN</td>\n",
       "      <td>NaN</td>\n",
       "    </tr>\n",
       "    <tr>\n",
       "      <th>4</th>\n",
       "      <td>Hanzhong</td>\n",
       "      <td>H</td>\n",
       "      <td>NaN</td>\n",
       "      <td>NaN</td>\n",
       "    </tr>\n",
       "  </tbody>\n",
       "</table>\n",
       "</div>"
      ],
      "text/plain": [
       "  first_name alph_value gender  prob\n",
       "0    Hanyuan          H    NaN   NaN\n",
       "1     Hanyue          H    NaN   NaN\n",
       "2      Hanze          H    NaN   NaN\n",
       "3   Hanzhang          H    NaN   NaN\n",
       "4   Hanzhong          H    NaN   NaN"
      ]
     },
     "execution_count": 26,
     "metadata": {},
     "output_type": "execute_result"
    }
   ],
   "source": [
    "# Import the df\n",
    "names_genders = pd.read_csv('data/names_genders.csv', sep = ';')\n",
    "\n",
    "# Sort to have the NAs for updating ready\n",
    "## This sort is performed every time when the data is read in\n",
    "names_genders = names_genders.sort_values(['gender', 'prob', 'first_name'], \n",
    "                          ascending = [0,0,1], \n",
    "                          na_position= 'first').reset_index(drop = True)\n",
    "names_genders.head()"
   ]
  },
  {
   "cell_type": "code",
   "execution_count": 27,
   "id": "06d9e1a0",
   "metadata": {},
   "outputs": [],
   "source": [
    "# A helper function to update data from APIs, etc\n",
    "\n",
    "def update_names_table(names_genders, limit = 500):\n",
    "    \n",
    "    # For loop querying the genderize.io API\n",
    "    for i in tqdm(range(limit)):\n",
    "        \n",
    "        # Extract the name\n",
    "        first_name = names_genders.loc[i, 'first_name'] # first name\n",
    "        \n",
    "        # Check if the name has already been checked\n",
    "        ## Query only if the name hasn't been checked already\n",
    "        if names_genders.loc[i, 'prob'] >= 0 and names_genders.loc[i, 'prob'] <= 1:\n",
    "            pass\n",
    "        \n",
    "        else:\n",
    "            try: \n",
    "                # Try querying the Genderize.io API\n",
    "                gender_info = Genderize().get([first_name])\n",
    "                names_genders.loc[i, 'gender'] = gender_info[0]['gender']\n",
    "                names_genders.loc[i,'prob'] = gender_info[0]['probability']\n",
    "                \n",
    "            except:\n",
    "                print(f'Iteration nr {i}')\n",
    "                print('Limit likely exceeded.')\n",
    "                break\n",
    "                \n",
    "            finally:\n",
    "                # Write to csv once data is pulled\n",
    "                names_genders.to_csv('data/names_genders.csv', index = False)"
   ]
  },
  {
   "cell_type": "code",
   "execution_count": null,
   "id": "a2be53bb",
   "metadata": {},
   "outputs": [
    {
     "name": "stderr",
     "output_type": "stream",
     "text": [
      " 33%|█████████████▋                           | 167/500 [03:19<06:23,  1.15s/it]"
     ]
    }
   ],
   "source": [
    "update_names_table(names_genders, 500)"
   ]
  },
  {
   "cell_type": "code",
   "execution_count": null,
   "id": "0f77fec7",
   "metadata": {},
   "outputs": [],
   "source": []
  }
 ],
 "metadata": {
  "kernelspec": {
   "display_name": "Python 3 (ipykernel)",
   "language": "python",
   "name": "python3"
  },
  "language_info": {
   "codemirror_mode": {
    "name": "ipython",
    "version": 3
   },
   "file_extension": ".py",
   "mimetype": "text/x-python",
   "name": "python",
   "nbconvert_exporter": "python",
   "pygments_lexer": "ipython3",
   "version": "3.10.4"
  }
 },
 "nbformat": 4,
 "nbformat_minor": 5
}
